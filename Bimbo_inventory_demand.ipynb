{
 "cells": [
  {
   "cell_type": "code",
   "execution_count": 2,
   "metadata": {},
   "outputs": [],
   "source": [
    "#Carga de librerias\n",
    "import numpy as np\n",
    "import pandas as pd\n",
    "import matplotlib.pyplot as plt"
   ]
  },
  {
   "cell_type": "markdown",
   "metadata": {},
   "source": [
    "## Carga de datos"
   ]
  },
  {
   "cell_type": "code",
   "execution_count": 3,
   "metadata": {},
   "outputs": [],
   "source": [
    "train =pd.read_csv('../../grupo-bimbo-inventory-demand/train.csv')\n",
    "test = pd.read_csv('../../grupo-bimbo-inventory-demand/test.csv')"
   ]
  },
  {
   "cell_type": "code",
   "execution_count": 4,
   "metadata": {},
   "outputs": [
    {
     "data": {
      "text/html": [
       "<div>\n",
       "<style scoped>\n",
       "    .dataframe tbody tr th:only-of-type {\n",
       "        vertical-align: middle;\n",
       "    }\n",
       "\n",
       "    .dataframe tbody tr th {\n",
       "        vertical-align: top;\n",
       "    }\n",
       "\n",
       "    .dataframe thead th {\n",
       "        text-align: right;\n",
       "    }\n",
       "</style>\n",
       "<table border=\"1\" class=\"dataframe\">\n",
       "  <thead>\n",
       "    <tr style=\"text-align: right;\">\n",
       "      <th></th>\n",
       "      <th>Semana</th>\n",
       "      <th>Agencia_ID</th>\n",
       "      <th>Canal_ID</th>\n",
       "      <th>Ruta_SAK</th>\n",
       "      <th>Cliente_ID</th>\n",
       "      <th>Producto_ID</th>\n",
       "      <th>Venta_uni_hoy</th>\n",
       "      <th>Venta_hoy</th>\n",
       "      <th>Dev_uni_proxima</th>\n",
       "      <th>Dev_proxima</th>\n",
       "      <th>Demanda_uni_equil</th>\n",
       "    </tr>\n",
       "  </thead>\n",
       "  <tbody>\n",
       "    <tr>\n",
       "      <th>0</th>\n",
       "      <td>3</td>\n",
       "      <td>1110</td>\n",
       "      <td>7</td>\n",
       "      <td>3301</td>\n",
       "      <td>15766</td>\n",
       "      <td>1212</td>\n",
       "      <td>3</td>\n",
       "      <td>25.14</td>\n",
       "      <td>0</td>\n",
       "      <td>0.0</td>\n",
       "      <td>3</td>\n",
       "    </tr>\n",
       "    <tr>\n",
       "      <th>1</th>\n",
       "      <td>3</td>\n",
       "      <td>1110</td>\n",
       "      <td>7</td>\n",
       "      <td>3301</td>\n",
       "      <td>15766</td>\n",
       "      <td>1216</td>\n",
       "      <td>4</td>\n",
       "      <td>33.52</td>\n",
       "      <td>0</td>\n",
       "      <td>0.0</td>\n",
       "      <td>4</td>\n",
       "    </tr>\n",
       "    <tr>\n",
       "      <th>2</th>\n",
       "      <td>3</td>\n",
       "      <td>1110</td>\n",
       "      <td>7</td>\n",
       "      <td>3301</td>\n",
       "      <td>15766</td>\n",
       "      <td>1238</td>\n",
       "      <td>4</td>\n",
       "      <td>39.32</td>\n",
       "      <td>0</td>\n",
       "      <td>0.0</td>\n",
       "      <td>4</td>\n",
       "    </tr>\n",
       "    <tr>\n",
       "      <th>3</th>\n",
       "      <td>3</td>\n",
       "      <td>1110</td>\n",
       "      <td>7</td>\n",
       "      <td>3301</td>\n",
       "      <td>15766</td>\n",
       "      <td>1240</td>\n",
       "      <td>4</td>\n",
       "      <td>33.52</td>\n",
       "      <td>0</td>\n",
       "      <td>0.0</td>\n",
       "      <td>4</td>\n",
       "    </tr>\n",
       "    <tr>\n",
       "      <th>4</th>\n",
       "      <td>3</td>\n",
       "      <td>1110</td>\n",
       "      <td>7</td>\n",
       "      <td>3301</td>\n",
       "      <td>15766</td>\n",
       "      <td>1242</td>\n",
       "      <td>3</td>\n",
       "      <td>22.92</td>\n",
       "      <td>0</td>\n",
       "      <td>0.0</td>\n",
       "      <td>3</td>\n",
       "    </tr>\n",
       "  </tbody>\n",
       "</table>\n",
       "</div>"
      ],
      "text/plain": [
       "   Semana  Agencia_ID  Canal_ID  Ruta_SAK  Cliente_ID  Producto_ID  \\\n",
       "0       3        1110         7      3301       15766         1212   \n",
       "1       3        1110         7      3301       15766         1216   \n",
       "2       3        1110         7      3301       15766         1238   \n",
       "3       3        1110         7      3301       15766         1240   \n",
       "4       3        1110         7      3301       15766         1242   \n",
       "\n",
       "   Venta_uni_hoy  Venta_hoy  Dev_uni_proxima  Dev_proxima  Demanda_uni_equil  \n",
       "0              3      25.14                0          0.0                  3  \n",
       "1              4      33.52                0          0.0                  4  \n",
       "2              4      39.32                0          0.0                  4  \n",
       "3              4      33.52                0          0.0                  4  \n",
       "4              3      22.92                0          0.0                  3  "
      ]
     },
     "execution_count": 4,
     "metadata": {},
     "output_type": "execute_result"
    }
   ],
   "source": [
    "train.head()"
   ]
  },
  {
   "cell_type": "markdown",
   "metadata": {},
   "source": [
    "## EDA"
   ]
  },
  {
   "cell_type": "markdown",
   "metadata": {},
   "source": [
    "### Información de Test y Train"
   ]
  },
  {
   "cell_type": "code",
   "execution_count": 5,
   "metadata": {},
   "outputs": [
    {
     "name": "stdout",
     "output_type": "stream",
     "text": [
      "tamaño de entrenamiento: (74180464, 11)\n",
      "tamaño de test(6999251, 7)\n"
     ]
    }
   ],
   "source": [
    "#Forma de los datos\n",
    "print('tamaño de entrenamiento: '+ str(train.shape))\n",
    "print('tamaño de test' + str(test.shape))"
   ]
  },
  {
   "cell_type": "code",
   "execution_count": 6,
   "metadata": {},
   "outputs": [
    {
     "name": "stdout",
     "output_type": "stream",
     "text": [
      "Columnas en train: ['Semana', 'Agencia_ID', 'Canal_ID', 'Ruta_SAK', 'Cliente_ID', 'Producto_ID', 'Venta_uni_hoy', 'Venta_hoy', 'Dev_uni_proxima', 'Dev_proxima', 'Demanda_uni_equil']\n",
      "Columnas en test: ['id', 'Semana', 'Agencia_ID', 'Canal_ID', 'Ruta_SAK', 'Cliente_ID', 'Producto_ID']\n"
     ]
    }
   ],
   "source": [
    "#Nombre de las columnas\n",
    "print('Columnas en train: '+ str(train.columns.tolist()))\n",
    "print('Columnas en test: '+ str(test.columns.tolist()))"
   ]
  },
  {
   "cell_type": "code",
   "execution_count": 7,
   "metadata": {},
   "outputs": [
    {
     "name": "stdout",
     "output_type": "stream",
     "text": [
      "             Semana    Agencia_ID      Canal_ID      Ruta_SAK    Cliente_ID  \\\n",
      "count  7.418046e+07  7.418046e+07  7.418046e+07  7.418046e+07  7.418046e+07   \n",
      "mean   5.950021e+00  2.536509e+03  1.383181e+00  2.114855e+03  1.802119e+06   \n",
      "std    2.013175e+00  4.075124e+03  1.463266e+00  1.487744e+03  2.349577e+06   \n",
      "min    3.000000e+00  1.110000e+03  1.000000e+00  1.000000e+00  2.600000e+01   \n",
      "25%    4.000000e+00  1.312000e+03  1.000000e+00  1.161000e+03  3.567670e+05   \n",
      "50%    6.000000e+00  1.613000e+03  1.000000e+00  1.286000e+03  1.193385e+06   \n",
      "75%    8.000000e+00  2.036000e+03  1.000000e+00  2.802000e+03  2.371091e+06   \n",
      "max    9.000000e+00  2.575900e+04  1.100000e+01  9.991000e+03  2.015152e+09   \n",
      "\n",
      "        Producto_ID  Venta_uni_hoy     Venta_hoy  Dev_uni_proxima  \\\n",
      "count  7.418046e+07   7.418046e+07  7.418046e+07     7.418046e+07   \n",
      "mean   2.084081e+04   7.310163e+00  6.854452e+01     1.302577e-01   \n",
      "std    1.866392e+04   2.196734e+01  3.389795e+02     2.932320e+01   \n",
      "min    4.100000e+01   0.000000e+00  0.000000e+00     0.000000e+00   \n",
      "25%    1.242000e+03   2.000000e+00  1.676000e+01     0.000000e+00   \n",
      "50%    3.054900e+04   3.000000e+00  3.000000e+01     0.000000e+00   \n",
      "75%    3.742600e+04   7.000000e+00  5.610000e+01     0.000000e+00   \n",
      "max    4.999700e+04   7.200000e+03  6.473600e+05     2.500000e+05   \n",
      "\n",
      "        Dev_proxima  Demanda_uni_equil  \n",
      "count  7.418046e+07       7.418046e+07  \n",
      "mean   1.243248e+00       7.224564e+00  \n",
      "std    3.921552e+01       2.177119e+01  \n",
      "min    0.000000e+00       0.000000e+00  \n",
      "25%    0.000000e+00       2.000000e+00  \n",
      "50%    0.000000e+00       3.000000e+00  \n",
      "75%    0.000000e+00       6.000000e+00  \n",
      "max    1.307600e+05       5.000000e+03  \n"
     ]
    }
   ],
   "source": [
    "print(train.describe())"
   ]
  },
  {
   "cell_type": "markdown",
   "metadata": {},
   "source": [
    "### Analisis de inputs"
   ]
  },
  {
   "cell_type": "code",
   "execution_count": 8,
   "metadata": {},
   "outputs": [
    {
     "name": "stdout",
     "output_type": "stream",
     "text": [
      "Las semanas para las cuales hay datos: [3, 4, 5, 6, 7, 8, 9]\n",
      "Numero de agencias distintas: 552\n",
      "Numero de canales distintos: [7, 8, 11, 1, 4, 2, 6, 5, 9]\n",
      "Numero de rutas distintas: 3603\n",
      "Numero de clientes distintos: 880604\n",
      "Numero de productos distintos: 1799\n"
     ]
    }
   ],
   "source": [
    "print('Las semanas para las cuales hay datos: ' + str(train['Semana'].unique().tolist()))\n",
    "print('Numero de agencias distintas: '+ str(len(train['Agencia_ID'].unique())))\n",
    "print('Numero de canales distintos: '+ str(train['Canal_ID'].unique().tolist()))\n",
    "print('Numero de rutas distintas: '+ str(len(train['Ruta_SAK'].unique())))\n",
    "print('Numero de clientes distintos: '+ str(len(train['Cliente_ID'].unique())))\n",
    "print('Numero de productos distintos: '+ str(len(train['Producto_ID'].unique())))\n",
    "\n"
   ]
  },
  {
   "cell_type": "markdown",
   "metadata": {},
   "source": [
    "### Analisis de varaible a predecir\n",
    "La variable a predecir es Dev_uni_equil "
   ]
  },
  {
   "cell_type": "code",
   "execution_count": 11,
   "metadata": {},
   "outputs": [
    {
     "data": {
      "image/png": "[encoded data removed]",
      "text/plain": [
       "<Figure size 432x288 with 1 Axes>"
      ]
     },
     "metadata": {
      "needs_background": "light"
     },
     "output_type": "display_data"
    }
   ],
   "source": [
    "#Existen outliers\n",
    "plt.hist((train['Demanda_uni_equil']), bins=50, color='blue')\n",
    "plt.title('Distribución Dev_uni_equil')\n",
    "plt.show()"
   ]
  },
  {
   "cell_type": "code",
   "execution_count": 13,
   "metadata": {},
   "outputs": [
    {
     "data": {
      "image/png": "[encoded data removed]",
      "text/plain": [
       "<Figure size 432x288 with 1 Axes>"
      ]
     },
     "metadata": {
      "needs_background": "light"
     },
     "output_type": "display_data"
    }
   ],
   "source": [
    "#La misma gráfica, pero filtrada\n",
    "train_50 = train[train['Demanda_uni_equil']<=100]\n",
    "plt.hist((train_50['Demanda_uni_equil']), bins=50, color='blue')\n",
    "plt.title('Distribución Dev_uni_equil')\n",
    "plt.show()"
   ]
  },
  {
   "cell_type": "markdown",
   "metadata": {},
   "source": []
  }
 ],
 "metadata": {
  "kernelspec": {
   "display_name": "Python 3.9.12 ('base')",
   "language": "python",
   "name": "python3"
  },
  "language_info": {
   "codemirror_mode": {
    "name": "ipython",
    "version": 3
   },
   "file_extension": ".py",
   "mimetype": "text/x-python",
   "name": "python",
   "nbconvert_exporter": "python",
   "pygments_lexer": "ipython3",
   "version": "3.9.12"
  },
  "orig_nbformat": 4,
  "vscode": {
   "interpreter": {
    "hash": "40d3a090f54c6569ab1632332b64b2c03c39dcf918b08424e98f38b5ae0af88f"
   }
  }
 },
 "nbformat": 4,
 "nbformat_minor": 2
}
